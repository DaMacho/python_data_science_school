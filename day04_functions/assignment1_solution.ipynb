{
 "cells": [
  {
   "cell_type": "markdown",
   "metadata": {},
   "source": [
    "## 과제 풀어보기"
   ]
  },
  {
   "cell_type": "markdown",
   "metadata": {
    "collapsed": true
   },
   "source": [
    "* assignment\n",
    " 1. 1 - 1000까지 정수 중 소수만 출력하시오.\n",
    " 2. 1 - 9000까지 정수 중 palindrome의 개수는? palindrome은 11, 121, 1331, 999 등 앞으로 읽으나 뒤로 읽으나 같은 수를 의미 합니다.\n",
    " 3. 정렬된 주어진 리스트가 있을 때, 각각 순차탐색과, 이진탐색으로 특정 숫자를 검새하는 프로그램을 작성하시오"
   ]
  },
  {
   "cell_type": "code",
   "execution_count": null,
   "metadata": {
    "collapsed": false
   },
   "outputs": [],
   "source": [
    "import math\n",
    "\n",
    "nums = range(3, 1001)\n",
    "primes = [2]\n",
    "\n",
    "for i in nums:\n",
    "    is_prime = True\n",
    "    for j in range(2, int(math.sqrt(i)+1)):\n",
    "        if i % j == 0:\n",
    "            is_prime = False\n",
    "            break\n",
    "    \n",
    "    if is_prime:\n",
    "        primes.append(i)\n",
    "        \n",
    "print(primes)\n",
    "print(len(primes))"
   ]
  },
  {
   "cell_type": "code",
   "execution_count": null,
   "metadata": {
    "collapsed": false
   },
   "outputs": [],
   "source": [
    "nums = list(range(2, 1001))\n",
    "\n",
    "# 에라토네스의 체를 그대로 구현했습니다. \n",
    "for i, num in enumerate(nums):\n",
    "    if num != 0:\n",
    "        to_zero = i + num\n",
    "        while to_zero < len(nums):\n",
    "            nums[to_zero] = 0\n",
    "            to_zero += num\n",
    "    \n",
    "primes = [p for p in nums if p != 0]\n",
    "print(primes) \n",
    "print(len(primes))"
   ]
  },
  {
   "cell_type": "code",
   "execution_count": null,
   "metadata": {
    "collapsed": false
   },
   "outputs": [],
   "source": [
    "nums = range(1, 9001)\n",
    "\n",
    "palindromes = []\n",
    "\n",
    "for n in nums:\n",
    "    str_num = str(n)\n",
    "    if str_num == str_num[::-1]: # 이런 트릭이!!\n",
    "        palindromes.append(n)\n",
    "        \n",
    "print(len(palindromes))"
   ]
  },
  {
   "cell_type": "code",
   "execution_count": null,
   "metadata": {
    "collapsed": false
   },
   "outputs": [],
   "source": [
    "import random\n",
    "nums = random.sample(range(160000), 150000)\n",
    "nums.sort()\n",
    "\n",
    "nums[23000]"
   ]
  },
  {
   "cell_type": "code",
   "execution_count": null,
   "metadata": {
    "collapsed": true
   },
   "outputs": [],
   "source": [
    "def linear_search(nums, k):\n",
    "    for i, n in enumerate(nums):\n",
    "        if k == n:\n",
    "            return i\n",
    "    return None"
   ]
  },
  {
   "cell_type": "code",
   "execution_count": null,
   "metadata": {
    "collapsed": true
   },
   "outputs": [],
   "source": [
    "def binary_search(nums, k):\n",
    "    s, e = 0, len(nums)-1\n",
    "    \n",
    "    while s <= e:\n",
    "        m = (s + e) // 2\n",
    "        \n",
    "        if k == nums[m]:\n",
    "            return m\n",
    "        elif k < nums[m]:\n",
    "            e = m - 1\n",
    "        else:\n",
    "            s = m + 1\n",
    "            \n",
    "    return None"
   ]
  },
  {
   "cell_type": "code",
   "execution_count": null,
   "metadata": {
    "collapsed": false
   },
   "outputs": [],
   "source": [
    "%timeit linear_search(nums, 24568)"
   ]
  },
  {
   "cell_type": "code",
   "execution_count": null,
   "metadata": {
    "collapsed": false
   },
   "outputs": [],
   "source": [
    "%timeit binary_search(nums, 24568)"
   ]
  }
 ],
 "metadata": {
  "kernelspec": {
   "display_name": "Python 3",
   "language": "python",
   "name": "python3"
  },
  "language_info": {
   "codemirror_mode": {
    "name": "ipython",
    "version": 3
   },
   "file_extension": ".py",
   "mimetype": "text/x-python",
   "name": "python",
   "nbconvert_exporter": "python",
   "pygments_lexer": "ipython3",
   "version": "3.6.2"
  }
 },
 "nbformat": 4,
 "nbformat_minor": 1
}
